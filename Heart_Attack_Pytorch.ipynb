{
 "cells": [
  {
   "cell_type": "markdown",
   "id": "3b93dc29",
   "metadata": {},
   "source": [
    "# Heart Attack Dataset\n",
    "\n",
    "This dataset was downloaded from https://www.kaggle.com/rashikrahmanpritom/heart-attack-analysis-prediction-dataset.<br>\n",
    "The notebook was created taking as baseline the explanations from the \"Building Your First PyTorch Solution\" course in pluralsight.com."
   ]
  },
  {
   "cell_type": "code",
   "execution_count": 1,
   "id": "66aa21b4",
   "metadata": {},
   "outputs": [],
   "source": [
    "# Import required libraries\n",
    "import torch\n",
    "\n",
    "import pandas as pd\n",
    "import numpy as np\n",
    "\n",
    "import seaborn as sns\n",
    "import matplotlib.pyplot as plt"
   ]
  },
  {
   "cell_type": "code",
   "execution_count": 2,
   "id": "6a487c2f",
   "metadata": {},
   "outputs": [],
   "source": [
    "data = pd.read_csv('./dataset/heart.csv')"
   ]
  },
  {
   "cell_type": "markdown",
   "id": "05cf2916",
   "metadata": {},
   "source": [
    "## Data Description\n",
    "\n",
    "*age*: Age of the person<br>\n",
    "*sex*: Gender of the person<br>\n",
    "*cp*: chest pain type<br>\n",
    "*trtbps*: resting blood pressure (mmHg)<br>\n",
    "*chol*: cholesterol (mg/dL)<br>\n",
    "*fbs*: fasting blood sugar > 120 mg/dL<br>\n",
    "*restecg*: resting electrocardiographic results<br>\n",
    "*thalachh*: maximum heart rate achieved<br>\n",
    "*exng*: exercise induced angina (1 = yes, 0 = no)<br>\n",
    "*oldpeak*: previous peak<br>\n",
    "*slp*: slope<br>\n",
    "*caa*: number of major vessels (0-3)<br>\n",
    "*thall*: Thal rate<br>\n",
    "*output*: had heart attack (target)<br>\n"
   ]
  },
  {
   "cell_type": "code",
   "execution_count": 3,
   "id": "7c9118b9",
   "metadata": {},
   "outputs": [
    {
     "data": {
      "text/html": [
       "<div>\n",
       "<style scoped>\n",
       "    .dataframe tbody tr th:only-of-type {\n",
       "        vertical-align: middle;\n",
       "    }\n",
       "\n",
       "    .dataframe tbody tr th {\n",
       "        vertical-align: top;\n",
       "    }\n",
       "\n",
       "    .dataframe thead th {\n",
       "        text-align: right;\n",
       "    }\n",
       "</style>\n",
       "<table border=\"1\" class=\"dataframe\">\n",
       "  <thead>\n",
       "    <tr style=\"text-align: right;\">\n",
       "      <th></th>\n",
       "      <th>age</th>\n",
       "      <th>sex</th>\n",
       "      <th>cp</th>\n",
       "      <th>trtbps</th>\n",
       "      <th>chol</th>\n",
       "      <th>fbs</th>\n",
       "      <th>restecg</th>\n",
       "      <th>thalachh</th>\n",
       "      <th>exng</th>\n",
       "      <th>oldpeak</th>\n",
       "      <th>slp</th>\n",
       "      <th>caa</th>\n",
       "      <th>thall</th>\n",
       "      <th>output</th>\n",
       "    </tr>\n",
       "  </thead>\n",
       "  <tbody>\n",
       "    <tr>\n",
       "      <th>0</th>\n",
       "      <td>63</td>\n",
       "      <td>1</td>\n",
       "      <td>3</td>\n",
       "      <td>145</td>\n",
       "      <td>233</td>\n",
       "      <td>1</td>\n",
       "      <td>0</td>\n",
       "      <td>150</td>\n",
       "      <td>0</td>\n",
       "      <td>2.3</td>\n",
       "      <td>0</td>\n",
       "      <td>0</td>\n",
       "      <td>1</td>\n",
       "      <td>1</td>\n",
       "    </tr>\n",
       "    <tr>\n",
       "      <th>1</th>\n",
       "      <td>37</td>\n",
       "      <td>1</td>\n",
       "      <td>2</td>\n",
       "      <td>130</td>\n",
       "      <td>250</td>\n",
       "      <td>0</td>\n",
       "      <td>1</td>\n",
       "      <td>187</td>\n",
       "      <td>0</td>\n",
       "      <td>3.5</td>\n",
       "      <td>0</td>\n",
       "      <td>0</td>\n",
       "      <td>2</td>\n",
       "      <td>1</td>\n",
       "    </tr>\n",
       "    <tr>\n",
       "      <th>2</th>\n",
       "      <td>41</td>\n",
       "      <td>0</td>\n",
       "      <td>1</td>\n",
       "      <td>130</td>\n",
       "      <td>204</td>\n",
       "      <td>0</td>\n",
       "      <td>0</td>\n",
       "      <td>172</td>\n",
       "      <td>0</td>\n",
       "      <td>1.4</td>\n",
       "      <td>2</td>\n",
       "      <td>0</td>\n",
       "      <td>2</td>\n",
       "      <td>1</td>\n",
       "    </tr>\n",
       "    <tr>\n",
       "      <th>3</th>\n",
       "      <td>56</td>\n",
       "      <td>1</td>\n",
       "      <td>1</td>\n",
       "      <td>120</td>\n",
       "      <td>236</td>\n",
       "      <td>0</td>\n",
       "      <td>1</td>\n",
       "      <td>178</td>\n",
       "      <td>0</td>\n",
       "      <td>0.8</td>\n",
       "      <td>2</td>\n",
       "      <td>0</td>\n",
       "      <td>2</td>\n",
       "      <td>1</td>\n",
       "    </tr>\n",
       "    <tr>\n",
       "      <th>4</th>\n",
       "      <td>57</td>\n",
       "      <td>0</td>\n",
       "      <td>0</td>\n",
       "      <td>120</td>\n",
       "      <td>354</td>\n",
       "      <td>0</td>\n",
       "      <td>1</td>\n",
       "      <td>163</td>\n",
       "      <td>1</td>\n",
       "      <td>0.6</td>\n",
       "      <td>2</td>\n",
       "      <td>0</td>\n",
       "      <td>2</td>\n",
       "      <td>1</td>\n",
       "    </tr>\n",
       "  </tbody>\n",
       "</table>\n",
       "</div>"
      ],
      "text/plain": [
       "   age  sex  cp  trtbps  chol  fbs  restecg  thalachh  exng  oldpeak  slp  \\\n",
       "0   63    1   3     145   233    1        0       150     0      2.3    0   \n",
       "1   37    1   2     130   250    0        1       187     0      3.5    0   \n",
       "2   41    0   1     130   204    0        0       172     0      1.4    2   \n",
       "3   56    1   1     120   236    0        1       178     0      0.8    2   \n",
       "4   57    0   0     120   354    0        1       163     1      0.6    2   \n",
       "\n",
       "   caa  thall  output  \n",
       "0    0      1       1  \n",
       "1    0      2       1  \n",
       "2    0      2       1  \n",
       "3    0      2       1  \n",
       "4    0      2       1  "
      ]
     },
     "execution_count": 3,
     "metadata": {},
     "output_type": "execute_result"
    }
   ],
   "source": [
    "data.head()"
   ]
  },
  {
   "cell_type": "markdown",
   "id": "89daf981",
   "metadata": {},
   "source": [
    "## Check data"
   ]
  },
  {
   "cell_type": "code",
   "execution_count": 4,
   "id": "d3dbed2e",
   "metadata": {},
   "outputs": [
    {
     "data": {
      "text/plain": [
       "age         0\n",
       "sex         0\n",
       "cp          0\n",
       "trtbps      0\n",
       "chol        0\n",
       "fbs         0\n",
       "restecg     0\n",
       "thalachh    0\n",
       "exng        0\n",
       "oldpeak     0\n",
       "slp         0\n",
       "caa         0\n",
       "thall       0\n",
       "output      0\n",
       "dtype: int64"
      ]
     },
     "execution_count": 4,
     "metadata": {},
     "output_type": "execute_result"
    }
   ],
   "source": [
    "# Check for null values\n",
    "data.isnull().sum()"
   ]
  },
  {
   "cell_type": "code",
   "execution_count": 5,
   "id": "6dad884b",
   "metadata": {},
   "outputs": [
    {
     "data": {
      "text/html": [
       "<div>\n",
       "<style scoped>\n",
       "    .dataframe tbody tr th:only-of-type {\n",
       "        vertical-align: middle;\n",
       "    }\n",
       "\n",
       "    .dataframe tbody tr th {\n",
       "        vertical-align: top;\n",
       "    }\n",
       "\n",
       "    .dataframe thead th {\n",
       "        text-align: right;\n",
       "    }\n",
       "</style>\n",
       "<table border=\"1\" class=\"dataframe\">\n",
       "  <thead>\n",
       "    <tr style=\"text-align: right;\">\n",
       "      <th></th>\n",
       "      <th>age</th>\n",
       "      <th>sex</th>\n",
       "      <th>cp</th>\n",
       "      <th>trtbps</th>\n",
       "      <th>chol</th>\n",
       "      <th>fbs</th>\n",
       "      <th>restecg</th>\n",
       "      <th>thalachh</th>\n",
       "      <th>exng</th>\n",
       "      <th>oldpeak</th>\n",
       "      <th>slp</th>\n",
       "      <th>caa</th>\n",
       "      <th>thall</th>\n",
       "      <th>output</th>\n",
       "    </tr>\n",
       "  </thead>\n",
       "  <tbody>\n",
       "    <tr>\n",
       "      <th>count</th>\n",
       "      <td>303.000000</td>\n",
       "      <td>303.000000</td>\n",
       "      <td>303.000000</td>\n",
       "      <td>303.000000</td>\n",
       "      <td>303.000000</td>\n",
       "      <td>303.000000</td>\n",
       "      <td>303.000000</td>\n",
       "      <td>303.000000</td>\n",
       "      <td>303.000000</td>\n",
       "      <td>303.000000</td>\n",
       "      <td>303.000000</td>\n",
       "      <td>303.000000</td>\n",
       "      <td>303.000000</td>\n",
       "      <td>303.000000</td>\n",
       "    </tr>\n",
       "    <tr>\n",
       "      <th>mean</th>\n",
       "      <td>54.366337</td>\n",
       "      <td>0.683168</td>\n",
       "      <td>0.966997</td>\n",
       "      <td>131.623762</td>\n",
       "      <td>246.264026</td>\n",
       "      <td>0.148515</td>\n",
       "      <td>0.528053</td>\n",
       "      <td>149.646865</td>\n",
       "      <td>0.326733</td>\n",
       "      <td>1.039604</td>\n",
       "      <td>1.399340</td>\n",
       "      <td>0.729373</td>\n",
       "      <td>2.313531</td>\n",
       "      <td>0.544554</td>\n",
       "    </tr>\n",
       "    <tr>\n",
       "      <th>std</th>\n",
       "      <td>9.082101</td>\n",
       "      <td>0.466011</td>\n",
       "      <td>1.032052</td>\n",
       "      <td>17.538143</td>\n",
       "      <td>51.830751</td>\n",
       "      <td>0.356198</td>\n",
       "      <td>0.525860</td>\n",
       "      <td>22.905161</td>\n",
       "      <td>0.469794</td>\n",
       "      <td>1.161075</td>\n",
       "      <td>0.616226</td>\n",
       "      <td>1.022606</td>\n",
       "      <td>0.612277</td>\n",
       "      <td>0.498835</td>\n",
       "    </tr>\n",
       "    <tr>\n",
       "      <th>min</th>\n",
       "      <td>29.000000</td>\n",
       "      <td>0.000000</td>\n",
       "      <td>0.000000</td>\n",
       "      <td>94.000000</td>\n",
       "      <td>126.000000</td>\n",
       "      <td>0.000000</td>\n",
       "      <td>0.000000</td>\n",
       "      <td>71.000000</td>\n",
       "      <td>0.000000</td>\n",
       "      <td>0.000000</td>\n",
       "      <td>0.000000</td>\n",
       "      <td>0.000000</td>\n",
       "      <td>0.000000</td>\n",
       "      <td>0.000000</td>\n",
       "    </tr>\n",
       "    <tr>\n",
       "      <th>25%</th>\n",
       "      <td>47.500000</td>\n",
       "      <td>0.000000</td>\n",
       "      <td>0.000000</td>\n",
       "      <td>120.000000</td>\n",
       "      <td>211.000000</td>\n",
       "      <td>0.000000</td>\n",
       "      <td>0.000000</td>\n",
       "      <td>133.500000</td>\n",
       "      <td>0.000000</td>\n",
       "      <td>0.000000</td>\n",
       "      <td>1.000000</td>\n",
       "      <td>0.000000</td>\n",
       "      <td>2.000000</td>\n",
       "      <td>0.000000</td>\n",
       "    </tr>\n",
       "    <tr>\n",
       "      <th>50%</th>\n",
       "      <td>55.000000</td>\n",
       "      <td>1.000000</td>\n",
       "      <td>1.000000</td>\n",
       "      <td>130.000000</td>\n",
       "      <td>240.000000</td>\n",
       "      <td>0.000000</td>\n",
       "      <td>1.000000</td>\n",
       "      <td>153.000000</td>\n",
       "      <td>0.000000</td>\n",
       "      <td>0.800000</td>\n",
       "      <td>1.000000</td>\n",
       "      <td>0.000000</td>\n",
       "      <td>2.000000</td>\n",
       "      <td>1.000000</td>\n",
       "    </tr>\n",
       "    <tr>\n",
       "      <th>75%</th>\n",
       "      <td>61.000000</td>\n",
       "      <td>1.000000</td>\n",
       "      <td>2.000000</td>\n",
       "      <td>140.000000</td>\n",
       "      <td>274.500000</td>\n",
       "      <td>0.000000</td>\n",
       "      <td>1.000000</td>\n",
       "      <td>166.000000</td>\n",
       "      <td>1.000000</td>\n",
       "      <td>1.600000</td>\n",
       "      <td>2.000000</td>\n",
       "      <td>1.000000</td>\n",
       "      <td>3.000000</td>\n",
       "      <td>1.000000</td>\n",
       "    </tr>\n",
       "    <tr>\n",
       "      <th>max</th>\n",
       "      <td>77.000000</td>\n",
       "      <td>1.000000</td>\n",
       "      <td>3.000000</td>\n",
       "      <td>200.000000</td>\n",
       "      <td>564.000000</td>\n",
       "      <td>1.000000</td>\n",
       "      <td>2.000000</td>\n",
       "      <td>202.000000</td>\n",
       "      <td>1.000000</td>\n",
       "      <td>6.200000</td>\n",
       "      <td>2.000000</td>\n",
       "      <td>4.000000</td>\n",
       "      <td>3.000000</td>\n",
       "      <td>1.000000</td>\n",
       "    </tr>\n",
       "  </tbody>\n",
       "</table>\n",
       "</div>"
      ],
      "text/plain": [
       "              age         sex          cp      trtbps        chol         fbs  \\\n",
       "count  303.000000  303.000000  303.000000  303.000000  303.000000  303.000000   \n",
       "mean    54.366337    0.683168    0.966997  131.623762  246.264026    0.148515   \n",
       "std      9.082101    0.466011    1.032052   17.538143   51.830751    0.356198   \n",
       "min     29.000000    0.000000    0.000000   94.000000  126.000000    0.000000   \n",
       "25%     47.500000    0.000000    0.000000  120.000000  211.000000    0.000000   \n",
       "50%     55.000000    1.000000    1.000000  130.000000  240.000000    0.000000   \n",
       "75%     61.000000    1.000000    2.000000  140.000000  274.500000    0.000000   \n",
       "max     77.000000    1.000000    3.000000  200.000000  564.000000    1.000000   \n",
       "\n",
       "          restecg    thalachh        exng     oldpeak         slp         caa  \\\n",
       "count  303.000000  303.000000  303.000000  303.000000  303.000000  303.000000   \n",
       "mean     0.528053  149.646865    0.326733    1.039604    1.399340    0.729373   \n",
       "std      0.525860   22.905161    0.469794    1.161075    0.616226    1.022606   \n",
       "min      0.000000   71.000000    0.000000    0.000000    0.000000    0.000000   \n",
       "25%      0.000000  133.500000    0.000000    0.000000    1.000000    0.000000   \n",
       "50%      1.000000  153.000000    0.000000    0.800000    1.000000    0.000000   \n",
       "75%      1.000000  166.000000    1.000000    1.600000    2.000000    1.000000   \n",
       "max      2.000000  202.000000    1.000000    6.200000    2.000000    4.000000   \n",
       "\n",
       "            thall      output  \n",
       "count  303.000000  303.000000  \n",
       "mean     2.313531    0.544554  \n",
       "std      0.612277    0.498835  \n",
       "min      0.000000    0.000000  \n",
       "25%      2.000000    0.000000  \n",
       "50%      2.000000    1.000000  \n",
       "75%      3.000000    1.000000  \n",
       "max      3.000000    1.000000  "
      ]
     },
     "execution_count": 5,
     "metadata": {},
     "output_type": "execute_result"
    }
   ],
   "source": [
    "data.describe()"
   ]
  },
  {
   "cell_type": "code",
   "execution_count": 6,
   "id": "9650ab23",
   "metadata": {},
   "outputs": [
    {
     "data": {
      "image/png": "[encoded data removed]",
      "text/plain": [
       "<Figure size 720x720 with 2 Axes>"
      ]
     },
     "metadata": {
      "needs_background": "light"
     },
     "output_type": "display_data"
    }
   ],
   "source": [
    "plt.figure(figsize=(10,10))\n",
    "sns.heatmap(data.corr(), annot=True, linewidths=0.05, fmt= '.2f')\n",
    "plt.show()"
   ]
  },
  {
   "cell_type": "markdown",
   "id": "a62db405",
   "metadata": {},
   "source": [
    "Cholesterol and fasting blood sugar > 120mg/dL seem to have the least relationship with the incidence of heart attacks.\n",
    "Higher correlated variables include maximum heart rate achieved, number of major vessels and previous peak.\n",
    "\n",
    "Start predictions without Cholesterol and fasting blood sugar > 120mg/dL.\n",
    "\n",
    "## Start training\n",
    "\n",
    "#### Setting features and label"
   ]
  },
  {
   "cell_type": "code",
   "execution_count": 7,
   "id": "b8fa9014",
   "metadata": {},
   "outputs": [
    {
     "data": {
      "text/html": [
       "<div>\n",
       "<style scoped>\n",
       "    .dataframe tbody tr th:only-of-type {\n",
       "        vertical-align: middle;\n",
       "    }\n",
       "\n",
       "    .dataframe tbody tr th {\n",
       "        vertical-align: top;\n",
       "    }\n",
       "\n",
       "    .dataframe thead th {\n",
       "        text-align: right;\n",
       "    }\n",
       "</style>\n",
       "<table border=\"1\" class=\"dataframe\">\n",
       "  <thead>\n",
       "    <tr style=\"text-align: right;\">\n",
       "      <th></th>\n",
       "      <th>age</th>\n",
       "      <th>sex</th>\n",
       "      <th>cp</th>\n",
       "      <th>trtbps</th>\n",
       "      <th>restecg</th>\n",
       "      <th>thalachh</th>\n",
       "      <th>exng</th>\n",
       "      <th>oldpeak</th>\n",
       "      <th>slp</th>\n",
       "      <th>caa</th>\n",
       "      <th>thall</th>\n",
       "    </tr>\n",
       "  </thead>\n",
       "  <tbody>\n",
       "    <tr>\n",
       "      <th>0</th>\n",
       "      <td>63</td>\n",
       "      <td>1</td>\n",
       "      <td>3</td>\n",
       "      <td>145</td>\n",
       "      <td>0</td>\n",
       "      <td>150</td>\n",
       "      <td>0</td>\n",
       "      <td>2.3</td>\n",
       "      <td>0</td>\n",
       "      <td>0</td>\n",
       "      <td>1</td>\n",
       "    </tr>\n",
       "    <tr>\n",
       "      <th>1</th>\n",
       "      <td>37</td>\n",
       "      <td>1</td>\n",
       "      <td>2</td>\n",
       "      <td>130</td>\n",
       "      <td>1</td>\n",
       "      <td>187</td>\n",
       "      <td>0</td>\n",
       "      <td>3.5</td>\n",
       "      <td>0</td>\n",
       "      <td>0</td>\n",
       "      <td>2</td>\n",
       "    </tr>\n",
       "    <tr>\n",
       "      <th>2</th>\n",
       "      <td>41</td>\n",
       "      <td>0</td>\n",
       "      <td>1</td>\n",
       "      <td>130</td>\n",
       "      <td>0</td>\n",
       "      <td>172</td>\n",
       "      <td>0</td>\n",
       "      <td>1.4</td>\n",
       "      <td>2</td>\n",
       "      <td>0</td>\n",
       "      <td>2</td>\n",
       "    </tr>\n",
       "    <tr>\n",
       "      <th>3</th>\n",
       "      <td>56</td>\n",
       "      <td>1</td>\n",
       "      <td>1</td>\n",
       "      <td>120</td>\n",
       "      <td>1</td>\n",
       "      <td>178</td>\n",
       "      <td>0</td>\n",
       "      <td>0.8</td>\n",
       "      <td>2</td>\n",
       "      <td>0</td>\n",
       "      <td>2</td>\n",
       "    </tr>\n",
       "    <tr>\n",
       "      <th>4</th>\n",
       "      <td>57</td>\n",
       "      <td>0</td>\n",
       "      <td>0</td>\n",
       "      <td>120</td>\n",
       "      <td>1</td>\n",
       "      <td>163</td>\n",
       "      <td>1</td>\n",
       "      <td>0.6</td>\n",
       "      <td>2</td>\n",
       "      <td>0</td>\n",
       "      <td>2</td>\n",
       "    </tr>\n",
       "  </tbody>\n",
       "</table>\n",
       "</div>"
      ],
      "text/plain": [
       "   age  sex  cp  trtbps  restecg  thalachh  exng  oldpeak  slp  caa  thall\n",
       "0   63    1   3     145        0       150     0      2.3    0    0      1\n",
       "1   37    1   2     130        1       187     0      3.5    0    0      2\n",
       "2   41    0   1     130        0       172     0      1.4    2    0      2\n",
       "3   56    1   1     120        1       178     0      0.8    2    0      2\n",
       "4   57    0   0     120        1       163     1      0.6    2    0      2"
      ]
     },
     "execution_count": 7,
     "metadata": {},
     "output_type": "execute_result"
    }
   ],
   "source": [
    "features = data[['age', 'sex', 'cp', 'trtbps', 'restecg', 'thalachh', 'exng', 'oldpeak', 'slp', 'caa', 'thall']]\n",
    "features.head()"
   ]
  },
  {
   "cell_type": "code",
   "execution_count": 8,
   "id": "f3241896",
   "metadata": {},
   "outputs": [
    {
     "data": {
      "text/html": [
       "<div>\n",
       "<style scoped>\n",
       "    .dataframe tbody tr th:only-of-type {\n",
       "        vertical-align: middle;\n",
       "    }\n",
       "\n",
       "    .dataframe tbody tr th {\n",
       "        vertical-align: top;\n",
       "    }\n",
       "\n",
       "    .dataframe thead th {\n",
       "        text-align: right;\n",
       "    }\n",
       "</style>\n",
       "<table border=\"1\" class=\"dataframe\">\n",
       "  <thead>\n",
       "    <tr style=\"text-align: right;\">\n",
       "      <th></th>\n",
       "      <th>output</th>\n",
       "    </tr>\n",
       "  </thead>\n",
       "  <tbody>\n",
       "    <tr>\n",
       "      <th>0</th>\n",
       "      <td>1</td>\n",
       "    </tr>\n",
       "    <tr>\n",
       "      <th>1</th>\n",
       "      <td>1</td>\n",
       "    </tr>\n",
       "    <tr>\n",
       "      <th>2</th>\n",
       "      <td>1</td>\n",
       "    </tr>\n",
       "    <tr>\n",
       "      <th>3</th>\n",
       "      <td>1</td>\n",
       "    </tr>\n",
       "    <tr>\n",
       "      <th>4</th>\n",
       "      <td>1</td>\n",
       "    </tr>\n",
       "  </tbody>\n",
       "</table>\n",
       "</div>"
      ],
      "text/plain": [
       "   output\n",
       "0       1\n",
       "1       1\n",
       "2       1\n",
       "3       1\n",
       "4       1"
      ]
     },
     "execution_count": 8,
     "metadata": {},
     "output_type": "execute_result"
    }
   ],
   "source": [
    "target = data[['output']]\n",
    "target.head()"
   ]
  },
  {
   "cell_type": "markdown",
   "id": "fe045caa",
   "metadata": {},
   "source": [
    "#### Split data"
   ]
  },
  {
   "cell_type": "code",
   "execution_count": 9,
   "id": "e580620e",
   "metadata": {},
   "outputs": [],
   "source": [
    "from sklearn.model_selection import train_test_split\n",
    "X_train, X_test, y_train, y_test = train_test_split(features, target, test_size=0.25)"
   ]
  },
  {
   "cell_type": "markdown",
   "id": "a1556399",
   "metadata": {},
   "source": [
    "#### Convert data into pytorch tensors"
   ]
  },
  {
   "cell_type": "code",
   "execution_count": 10,
   "id": "8799b47d",
   "metadata": {},
   "outputs": [
    {
     "data": {
      "text/plain": [
       "(torch.Size([227, 11]), torch.Size([76, 11]))"
      ]
     },
     "execution_count": 10,
     "metadata": {},
     "output_type": "execute_result"
    }
   ],
   "source": [
    "X_train_tensor = torch.from_numpy(X_train.values).float()\n",
    "X_test_tensor = torch.from_numpy(X_test.values).float()\n",
    "X_train_tensor.shape, X_test_tensor.shape"
   ]
  },
  {
   "cell_type": "code",
   "execution_count": 11,
   "id": "060452de",
   "metadata": {},
   "outputs": [
    {
     "data": {
      "text/plain": [
       "(torch.Size([227]), torch.Size([76]))"
      ]
     },
     "execution_count": 11,
     "metadata": {},
     "output_type": "execute_result"
    }
   ],
   "source": [
    "# Use view to reshape the tensor\n",
    "y_train_tensor = torch.from_numpy(y_train.values).view(1,-1)[0].long()\n",
    "y_test_tensor = torch.from_numpy(y_test.values).view(1,-1)[0].long()\n",
    "y_train_tensor.shape,y_test_tensor.shape"
   ]
  },
  {
   "cell_type": "markdown",
   "id": "b7a3a4cb",
   "metadata": {},
   "source": [
    "#### Start setting up neural net"
   ]
  },
  {
   "cell_type": "code",
   "execution_count": 12,
   "id": "982fc4ff",
   "metadata": {},
   "outputs": [],
   "source": [
    "import torch.nn as nn\n",
    "import torch.nn.functional as F\n",
    "import torch.optim as optim\n",
    "\n",
    "input_size = X_train_tensor.shape[1]\n",
    "output_size = len(target['output'].unique())"
   ]
  },
  {
   "cell_type": "code",
   "execution_count": 13,
   "id": "ea2d6a7a",
   "metadata": {},
   "outputs": [
    {
     "data": {
      "text/plain": [
       "(11, 2)"
      ]
     },
     "execution_count": 13,
     "metadata": {},
     "output_type": "execute_result"
    }
   ],
   "source": [
    "input_size, output_size"
   ]
  },
  {
   "cell_type": "code",
   "execution_count": 14,
   "id": "f0411d77",
   "metadata": {},
   "outputs": [],
   "source": [
    "# Define a neural net class to create the model\n",
    "\n",
    "class Net(nn.Module):\n",
    "    \n",
    "    ''' Creates neural network model.\n",
    "        Required inputs include the number of neurons.\n",
    "        Optionally, one can choose the activation function and choose if dropout layer will be applied or not.\n",
    "    '''\n",
    "    \n",
    "    def __init__(self, hidden_size, activation_fn='relu', apply_dropout=False):\n",
    "        super(Net, self).__init__()\n",
    "        \n",
    "        # Apply linear transformation to the incoming data\n",
    "        self.linear1 = nn.Linear(input_size, hidden_size)\n",
    "        self.linear2 = nn.Linear(hidden_size, hidden_size)\n",
    "        self.linear3 = nn.Linear(hidden_size, output_size)\n",
    "        \n",
    "        self.hidden_size = hidden_size\n",
    "        self.activation_fn = activation_fn\n",
    "        \n",
    "        self.dropout = None\n",
    "        if apply_dropout:\n",
    "            self.dropout = nn.Dropout(0.2)\n",
    "        \n",
    "    def forward(self, X):\n",
    "        \n",
    "        activation_fn = None\n",
    "        if self.activation_fn == 'sigmoid':\n",
    "            activation_fn = F.torch.sigmoid\n",
    "        elif self.activation_fn == 'tanh':\n",
    "            activation_fn = F.torch.tanh\n",
    "        elif self.activation_fn == 'relu':\n",
    "            activation_fn = F.torch.relu\n",
    "     \n",
    "        X = activation_fn(self.linear1(X))\n",
    "        X = activation_fn(self.linear2(X))\n",
    "\n",
    "        if self.dropout != None:\n",
    "            X - self.dropout(X)\n",
    "\n",
    "        X = self.linear3(X)\n",
    "\n",
    "        return F.log_softmax(X, dim=-1)\n"
   ]
  },
  {
   "cell_type": "code",
   "execution_count": 15,
   "id": "2b6f39f7",
   "metadata": {},
   "outputs": [],
   "source": [
    "# Create training function\n",
    "\n",
    "def train_and_eval_model(model, learn_rate=0.001):\n",
    "    \n",
    "    epoch_data = []\n",
    "    epochs = 1501\n",
    "    \n",
    "    # define optimizer\n",
    "    optimizer = optim.Adam(model.parameters(), lr=learn_rate)\n",
    "    \n",
    "    # define loss function as NLL loss (because we are using Lof_softmax)\n",
    "    loss_fn = nn.NLLLoss()\n",
    "    \n",
    "    test_accuracy = 0.0\n",
    "    \n",
    "    # start training\n",
    "    for epoch in range(1,epochs):\n",
    "        \n",
    "        # reset gradients\n",
    "        optimizer.zero_grad()\n",
    "        \n",
    "        # forward pass\n",
    "        y_pred_train = model(X_train_tensor)\n",
    "        \n",
    "        # calculate loss and get gradients\n",
    "        loss = loss_fn(y_pred_train, y_train_tensor)\n",
    "        loss.backward()\n",
    "        \n",
    "        # run an optimizer step\n",
    "        optimizer.step()\n",
    "        \n",
    "        # check how the model is doing\n",
    "        model.eval()\n",
    "        y_pred_test = model(X_test_tensor)\n",
    "        loss_test = loss_fn(y_pred_test, y_test_tensor)\n",
    "        _, pred = y_pred_test.data.max(1)\n",
    "        \n",
    "        test_accuracy = pred.eq(y_test_tensor.data).sum().item() / y_test.values.size\n",
    "        \n",
    "        epoch_data.append([epoch, loss.data.item(), loss_test.data.item(), test_accuracy])\n",
    "        \n",
    "        if epoch %100 == 0:\n",
    "            print('epoch - %d (%d%%) train loss - %.2f test loss - %.2f test accuracy - %.4f'\\\n",
    "                 % (epoch, epoch/150*10, loss.data.item(), loss_test.data.item(), test_accuracy))\n",
    "        \n",
    "        model.train()\n",
    "        \n",
    "    return {'model': model,\n",
    "            'epoch_data': epoch_data,\n",
    "            'num_epochs': epochs,\n",
    "            'optimizer': optimizer,\n",
    "            'loss_fn': loss_fn,\n",
    "            'test_accuracy': test_accuracy,\n",
    "            '_, pred': y_pred_test.data.max(1),\n",
    "            'actual_test_label': y_test_tensor,\n",
    "           }"
   ]
  },
  {
   "cell_type": "markdown",
   "id": "9fadc0e1",
   "metadata": {},
   "source": [
    "#### Sensitivity on different neural net configurations"
   ]
  },
  {
   "cell_type": "code",
   "execution_count": 16,
   "id": "f1c08470",
   "metadata": {},
   "outputs": [
    {
     "data": {
      "text/plain": [
       "Net(\n",
       "  (linear1): Linear(in_features=11, out_features=5, bias=True)\n",
       "  (linear2): Linear(in_features=5, out_features=5, bias=True)\n",
       "  (linear3): Linear(in_features=5, out_features=2, bias=True)\n",
       ")"
      ]
     },
     "execution_count": 16,
     "metadata": {},
     "output_type": "execute_result"
    }
   ],
   "source": [
    "net = Net(hidden_size=5, activation_fn='sigmoid')\n",
    "net"
   ]
  },
  {
   "cell_type": "code",
   "execution_count": 17,
   "id": "dda322ca",
   "metadata": {},
   "outputs": [
    {
     "name": "stdout",
     "output_type": "stream",
     "text": [
      "epoch - 100 (6%) train loss - 0.66 test loss - 0.69 test accuracy - 0.4474\n",
      "epoch - 200 (13%) train loss - 0.63 test loss - 0.65 test accuracy - 0.6184\n",
      "epoch - 300 (20%) train loss - 0.58 test loss - 0.60 test accuracy - 0.7632\n",
      "epoch - 400 (26%) train loss - 0.51 test loss - 0.51 test accuracy - 0.8684\n",
      "epoch - 500 (33%) train loss - 0.44 test loss - 0.44 test accuracy - 0.8553\n",
      "epoch - 600 (40%) train loss - 0.40 test loss - 0.39 test accuracy - 0.8684\n",
      "epoch - 700 (46%) train loss - 0.38 test loss - 0.37 test accuracy - 0.8684\n",
      "epoch - 800 (53%) train loss - 0.37 test loss - 0.37 test accuracy - 0.8684\n",
      "epoch - 900 (60%) train loss - 0.36 test loss - 0.38 test accuracy - 0.8553\n",
      "epoch - 1000 (66%) train loss - 0.35 test loss - 0.39 test accuracy - 0.8421\n",
      "epoch - 1100 (73%) train loss - 0.34 test loss - 0.40 test accuracy - 0.8421\n",
      "epoch - 1200 (80%) train loss - 0.33 test loss - 0.40 test accuracy - 0.8289\n",
      "epoch - 1300 (86%) train loss - 0.32 test loss - 0.41 test accuracy - 0.8421\n",
      "epoch - 1400 (93%) train loss - 0.31 test loss - 0.41 test accuracy - 0.8421\n",
      "epoch - 1500 (100%) train loss - 0.31 test loss - 0.41 test accuracy - 0.8421\n"
     ]
    }
   ],
   "source": [
    "result_5_sigmoid = train_and_eval_model(net)"
   ]
  },
  {
   "cell_type": "code",
   "execution_count": 20,
   "id": "af23d785",
   "metadata": {},
   "outputs": [
    {
     "data": {
      "text/plain": [
       "Net(\n",
       "  (linear1): Linear(in_features=11, out_features=20, bias=True)\n",
       "  (linear2): Linear(in_features=20, out_features=20, bias=True)\n",
       "  (linear3): Linear(in_features=20, out_features=2, bias=True)\n",
       ")"
      ]
     },
     "execution_count": 20,
     "metadata": {},
     "output_type": "execute_result"
    }
   ],
   "source": [
    "# increase the number of neurons\n",
    "\n",
    "net = Net(hidden_size=20, activation_fn='sigmoid')\n",
    "net"
   ]
  },
  {
   "cell_type": "code",
   "execution_count": 21,
   "id": "3650b2d2",
   "metadata": {},
   "outputs": [
    {
     "name": "stdout",
     "output_type": "stream",
     "text": [
      "epoch - 100 (6%) train loss - 0.65 test loss - 0.68 test accuracy - 0.4474\n",
      "epoch - 200 (13%) train loss - 0.56 test loss - 0.56 test accuracy - 0.7500\n",
      "epoch - 300 (20%) train loss - 0.41 test loss - 0.42 test accuracy - 0.8684\n",
      "epoch - 400 (26%) train loss - 0.35 test loss - 0.36 test accuracy - 0.8684\n",
      "epoch - 500 (33%) train loss - 0.33 test loss - 0.36 test accuracy - 0.8684\n",
      "epoch - 600 (40%) train loss - 0.30 test loss - 0.37 test accuracy - 0.8684\n",
      "epoch - 700 (46%) train loss - 0.28 test loss - 0.38 test accuracy - 0.8684\n",
      "epoch - 800 (53%) train loss - 0.26 test loss - 0.38 test accuracy - 0.8684\n",
      "epoch - 900 (60%) train loss - 0.24 test loss - 0.40 test accuracy - 0.8816\n",
      "epoch - 1000 (66%) train loss - 0.22 test loss - 0.41 test accuracy - 0.8553\n",
      "epoch - 1100 (73%) train loss - 0.20 test loss - 0.43 test accuracy - 0.8289\n",
      "epoch - 1200 (80%) train loss - 0.18 test loss - 0.45 test accuracy - 0.8421\n",
      "epoch - 1300 (86%) train loss - 0.16 test loss - 0.47 test accuracy - 0.8421\n",
      "epoch - 1400 (93%) train loss - 0.14 test loss - 0.50 test accuracy - 0.8421\n",
      "epoch - 1500 (100%) train loss - 0.11 test loss - 0.56 test accuracy - 0.8421\n"
     ]
    }
   ],
   "source": [
    "result_20_sigmoid = train_and_eval_model(net)"
   ]
  },
  {
   "cell_type": "code",
   "execution_count": 22,
   "id": "328343d1",
   "metadata": {},
   "outputs": [
    {
     "data": {
      "text/plain": [
       "Net(\n",
       "  (linear1): Linear(in_features=11, out_features=20, bias=True)\n",
       "  (linear2): Linear(in_features=20, out_features=20, bias=True)\n",
       "  (linear3): Linear(in_features=20, out_features=2, bias=True)\n",
       "  (dropout): Dropout(p=0.2, inplace=False)\n",
       ")"
      ]
     },
     "execution_count": 22,
     "metadata": {},
     "output_type": "execute_result"
    }
   ],
   "source": [
    "# not much difference... keep net configuration, but apply dropout\n",
    "\n",
    "net = Net(hidden_size=20, activation_fn='sigmoid', apply_dropout=True)\n",
    "net\n"
   ]
  },
  {
   "cell_type": "code",
   "execution_count": 23,
   "id": "000511d3",
   "metadata": {},
   "outputs": [
    {
     "name": "stdout",
     "output_type": "stream",
     "text": [
      "epoch - 100 (6%) train loss - 0.64 test loss - 0.66 test accuracy - 0.5395\n",
      "epoch - 200 (13%) train loss - 0.51 test loss - 0.51 test accuracy - 0.8026\n",
      "epoch - 300 (20%) train loss - 0.36 test loss - 0.38 test accuracy - 0.8684\n",
      "epoch - 400 (26%) train loss - 0.33 test loss - 0.37 test accuracy - 0.8553\n",
      "epoch - 500 (33%) train loss - 0.30 test loss - 0.39 test accuracy - 0.8553\n",
      "epoch - 600 (40%) train loss - 0.27 test loss - 0.41 test accuracy - 0.8553\n",
      "epoch - 700 (46%) train loss - 0.24 test loss - 0.45 test accuracy - 0.8158\n",
      "epoch - 800 (53%) train loss - 0.21 test loss - 0.50 test accuracy - 0.8158\n",
      "epoch - 900 (60%) train loss - 0.18 test loss - 0.56 test accuracy - 0.8158\n",
      "epoch - 1000 (66%) train loss - 0.15 test loss - 0.63 test accuracy - 0.8158\n",
      "epoch - 1100 (73%) train loss - 0.13 test loss - 0.68 test accuracy - 0.8026\n",
      "epoch - 1200 (80%) train loss - 0.11 test loss - 0.77 test accuracy - 0.8158\n",
      "epoch - 1300 (86%) train loss - 0.09 test loss - 0.85 test accuracy - 0.8158\n",
      "epoch - 1400 (93%) train loss - 0.07 test loss - 0.92 test accuracy - 0.8158\n",
      "epoch - 1500 (100%) train loss - 0.06 test loss - 1.01 test accuracy - 0.8026\n"
     ]
    }
   ],
   "source": [
    "result_20_sigmoid_dropout = train_and_eval_model(net)"
   ]
  },
  {
   "cell_type": "code",
   "execution_count": 24,
   "id": "512f498b",
   "metadata": {},
   "outputs": [
    {
     "data": {
      "text/plain": [
       "Net(\n",
       "  (linear1): Linear(in_features=11, out_features=20, bias=True)\n",
       "  (linear2): Linear(in_features=20, out_features=20, bias=True)\n",
       "  (linear3): Linear(in_features=20, out_features=2, bias=True)\n",
       ")"
      ]
     },
     "execution_count": 24,
     "metadata": {},
     "output_type": "execute_result"
    }
   ],
   "source": [
    "# dropout made it a bit worse\n",
    "# check effect of changing the activation function\n",
    "\n",
    "net = Net(hidden_size=20, activation_fn='tanh')\n",
    "net"
   ]
  },
  {
   "cell_type": "code",
   "execution_count": 25,
   "id": "eb23ae81",
   "metadata": {},
   "outputs": [
    {
     "name": "stdout",
     "output_type": "stream",
     "text": [
      "epoch - 100 (6%) train loss - 0.56 test loss - 0.56 test accuracy - 0.7500\n",
      "epoch - 200 (13%) train loss - 0.39 test loss - 0.39 test accuracy - 0.8289\n",
      "epoch - 300 (20%) train loss - 0.32 test loss - 0.39 test accuracy - 0.8289\n",
      "epoch - 400 (26%) train loss - 0.29 test loss - 0.41 test accuracy - 0.8289\n",
      "epoch - 500 (33%) train loss - 0.27 test loss - 0.43 test accuracy - 0.8289\n",
      "epoch - 600 (40%) train loss - 0.24 test loss - 0.46 test accuracy - 0.8026\n",
      "epoch - 700 (46%) train loss - 0.22 test loss - 0.47 test accuracy - 0.8026\n",
      "epoch - 800 (53%) train loss - 0.21 test loss - 0.52 test accuracy - 0.8158\n",
      "epoch - 900 (60%) train loss - 0.19 test loss - 0.54 test accuracy - 0.8158\n",
      "epoch - 1000 (66%) train loss - 0.18 test loss - 0.57 test accuracy - 0.8158\n",
      "epoch - 1100 (73%) train loss - 0.17 test loss - 0.59 test accuracy - 0.8289\n",
      "epoch - 1200 (80%) train loss - 0.17 test loss - 0.61 test accuracy - 0.8158\n",
      "epoch - 1300 (86%) train loss - 0.16 test loss - 0.63 test accuracy - 0.8553\n",
      "epoch - 1400 (93%) train loss - 0.15 test loss - 0.65 test accuracy - 0.8421\n",
      "epoch - 1500 (100%) train loss - 0.14 test loss - 0.68 test accuracy - 0.8289\n"
     ]
    }
   ],
   "source": [
    "result_20_tanh = train_and_eval_model(net)"
   ]
  },
  {
   "cell_type": "code",
   "execution_count": 26,
   "id": "9a623232",
   "metadata": {},
   "outputs": [
    {
     "data": {
      "text/plain": [
       "Net(\n",
       "  (linear1): Linear(in_features=11, out_features=100, bias=True)\n",
       "  (linear2): Linear(in_features=100, out_features=100, bias=True)\n",
       "  (linear3): Linear(in_features=100, out_features=2, bias=True)\n",
       ")"
      ]
     },
     "execution_count": 26,
     "metadata": {},
     "output_type": "execute_result"
    }
   ],
   "source": [
    "# not much better. Go back to sigmoid and increase number of neurons\n",
    "\n",
    "net = Net(hidden_size=100, activation_fn='sigmoid')\n",
    "net"
   ]
  },
  {
   "cell_type": "code",
   "execution_count": 27,
   "id": "4b007f43",
   "metadata": {},
   "outputs": [
    {
     "name": "stdout",
     "output_type": "stream",
     "text": [
      "epoch - 100 (6%) train loss - 0.51 test loss - 0.55 test accuracy - 0.7763\n",
      "epoch - 200 (13%) train loss - 0.31 test loss - 0.42 test accuracy - 0.8421\n",
      "epoch - 300 (20%) train loss - 0.24 test loss - 0.50 test accuracy - 0.8158\n",
      "epoch - 400 (26%) train loss - 0.17 test loss - 0.63 test accuracy - 0.7895\n",
      "epoch - 500 (33%) train loss - 0.12 test loss - 0.79 test accuracy - 0.7763\n",
      "epoch - 600 (40%) train loss - 0.08 test loss - 0.93 test accuracy - 0.7237\n",
      "epoch - 700 (46%) train loss - 0.06 test loss - 1.09 test accuracy - 0.7237\n",
      "epoch - 800 (53%) train loss - 0.04 test loss - 1.22 test accuracy - 0.7237\n",
      "epoch - 900 (60%) train loss - 0.02 test loss - 1.36 test accuracy - 0.7237\n",
      "epoch - 1000 (66%) train loss - 0.02 test loss - 1.48 test accuracy - 0.7237\n",
      "epoch - 1100 (73%) train loss - 0.01 test loss - 1.56 test accuracy - 0.7237\n",
      "epoch - 1200 (80%) train loss - 0.01 test loss - 1.62 test accuracy - 0.7237\n",
      "epoch - 1300 (86%) train loss - 0.01 test loss - 1.69 test accuracy - 0.7237\n",
      "epoch - 1400 (93%) train loss - 0.00 test loss - 1.75 test accuracy - 0.7237\n",
      "epoch - 1500 (100%) train loss - 0.00 test loss - 1.81 test accuracy - 0.7368\n"
     ]
    }
   ],
   "source": [
    "result_100_sigmoid = train_and_eval_model(net)"
   ]
  },
  {
   "cell_type": "code",
   "execution_count": 29,
   "id": "092bbf94",
   "metadata": {},
   "outputs": [
    {
     "data": {
      "text/plain": [
       "Net(\n",
       "  (linear1): Linear(in_features=11, out_features=5, bias=True)\n",
       "  (linear2): Linear(in_features=5, out_features=5, bias=True)\n",
       "  (linear3): Linear(in_features=5, out_features=2, bias=True)\n",
       ")"
      ]
     },
     "execution_count": 29,
     "metadata": {},
     "output_type": "execute_result"
    }
   ],
   "source": [
    "# increasing the number of neurons makes it worse\n",
    "# lastly, I will go back to the best model, and I will try to change the activation function again\n",
    "\n",
    "net = Net(hidden_size=5, activation_fn='tanh')\n",
    "net"
   ]
  },
  {
   "cell_type": "code",
   "execution_count": 30,
   "id": "e91f4bd0",
   "metadata": {},
   "outputs": [
    {
     "name": "stdout",
     "output_type": "stream",
     "text": [
      "epoch - 100 (6%) train loss - 0.63 test loss - 0.65 test accuracy - 0.6711\n",
      "epoch - 200 (13%) train loss - 0.56 test loss - 0.57 test accuracy - 0.7632\n",
      "epoch - 300 (20%) train loss - 0.44 test loss - 0.42 test accuracy - 0.8684\n",
      "epoch - 400 (26%) train loss - 0.38 test loss - 0.35 test accuracy - 0.8816\n",
      "epoch - 500 (33%) train loss - 0.37 test loss - 0.35 test accuracy - 0.8816\n",
      "epoch - 600 (40%) train loss - 0.36 test loss - 0.36 test accuracy - 0.8816\n",
      "epoch - 700 (46%) train loss - 0.36 test loss - 0.36 test accuracy - 0.8816\n",
      "epoch - 800 (53%) train loss - 0.36 test loss - 0.37 test accuracy - 0.8684\n",
      "epoch - 900 (60%) train loss - 0.35 test loss - 0.38 test accuracy - 0.8684\n",
      "epoch - 1000 (66%) train loss - 0.35 test loss - 0.38 test accuracy - 0.8553\n",
      "epoch - 1100 (73%) train loss - 0.35 test loss - 0.38 test accuracy - 0.8684\n",
      "epoch - 1200 (80%) train loss - 0.35 test loss - 0.39 test accuracy - 0.8553\n",
      "epoch - 1300 (86%) train loss - 0.35 test loss - 0.39 test accuracy - 0.8553\n",
      "epoch - 1400 (93%) train loss - 0.35 test loss - 0.39 test accuracy - 0.8553\n",
      "epoch - 1500 (100%) train loss - 0.35 test loss - 0.39 test accuracy - 0.8553\n"
     ]
    }
   ],
   "source": [
    "result_5_tanh = train_and_eval_model(net)"
   ]
  },
  {
   "cell_type": "code",
   "execution_count": 31,
   "id": "c60737f9",
   "metadata": {},
   "outputs": [
    {
     "data": {
      "text/plain": [
       "Net(\n",
       "  (linear1): Linear(in_features=11, out_features=5, bias=True)\n",
       "  (linear2): Linear(in_features=5, out_features=5, bias=True)\n",
       "  (linear3): Linear(in_features=5, out_features=2, bias=True)\n",
       "  (dropout): Dropout(p=0.2, inplace=False)\n",
       ")"
      ]
     },
     "execution_count": 31,
     "metadata": {},
     "output_type": "execute_result"
    }
   ],
   "source": [
    "# there you go, slightly better\n",
    "# check it with dropout\n",
    "\n",
    "net = Net(hidden_size=5, activation_fn='tanh', apply_dropout=True)\n",
    "net"
   ]
  },
  {
   "cell_type": "code",
   "execution_count": 32,
   "id": "e14338e9",
   "metadata": {},
   "outputs": [
    {
     "name": "stdout",
     "output_type": "stream",
     "text": [
      "epoch - 100 (6%) train loss - 0.68 test loss - 0.72 test accuracy - 0.4474\n",
      "epoch - 200 (13%) train loss - 0.68 test loss - 0.72 test accuracy - 0.4474\n",
      "epoch - 300 (20%) train loss - 0.60 test loss - 0.60 test accuracy - 0.7632\n",
      "epoch - 400 (26%) train loss - 0.59 test loss - 0.57 test accuracy - 0.7763\n",
      "epoch - 500 (33%) train loss - 0.51 test loss - 0.49 test accuracy - 0.7763\n",
      "epoch - 600 (40%) train loss - 0.39 test loss - 0.36 test accuracy - 0.8553\n",
      "epoch - 700 (46%) train loss - 0.37 test loss - 0.35 test accuracy - 0.8947\n",
      "epoch - 800 (53%) train loss - 0.36 test loss - 0.36 test accuracy - 0.8553\n",
      "epoch - 900 (60%) train loss - 0.36 test loss - 0.37 test accuracy - 0.8553\n",
      "epoch - 1000 (66%) train loss - 0.36 test loss - 0.37 test accuracy - 0.8553\n",
      "epoch - 1100 (73%) train loss - 0.36 test loss - 0.37 test accuracy - 0.8553\n",
      "epoch - 1200 (80%) train loss - 0.36 test loss - 0.37 test accuracy - 0.8553\n",
      "epoch - 1300 (86%) train loss - 0.36 test loss - 0.37 test accuracy - 0.8553\n",
      "epoch - 1400 (93%) train loss - 0.36 test loss - 0.37 test accuracy - 0.8553\n",
      "epoch - 1500 (100%) train loss - 0.36 test loss - 0.37 test accuracy - 0.8553\n"
     ]
    }
   ],
   "source": [
    "result_5_tanh_dropout = train_and_eval_model(net)"
   ]
  },
  {
   "cell_type": "code",
   "execution_count": 34,
   "id": "517a97df",
   "metadata": {},
   "outputs": [
    {
     "data": {
      "text/plain": [
       "0.8552631578947368"
      ]
     },
     "execution_count": 34,
     "metadata": {},
     "output_type": "execute_result"
    }
   ],
   "source": [
    "# no difference in applying dropout\n",
    "# I will take the result with the highest accuracy for further analysis\n",
    "\n",
    "result_5_tanh['test_accuracy']"
   ]
  },
  {
   "cell_type": "code",
   "execution_count": 45,
   "id": "357017ce",
   "metadata": {},
   "outputs": [],
   "source": [
    "df_epochs_data = pd.DataFrame(result_5_tanh['epoch_data'],\n",
    "                              columns=[\"epoch\",\"train_loss\",\"test_loss\",\"accuracy\"])"
   ]
  },
  {
   "cell_type": "code",
   "execution_count": 46,
   "id": "9d34f86a",
   "metadata": {},
   "outputs": [
    {
     "data": {
      "text/html": [
       "<div>\n",
       "<style scoped>\n",
       "    .dataframe tbody tr th:only-of-type {\n",
       "        vertical-align: middle;\n",
       "    }\n",
       "\n",
       "    .dataframe tbody tr th {\n",
       "        vertical-align: top;\n",
       "    }\n",
       "\n",
       "    .dataframe thead th {\n",
       "        text-align: right;\n",
       "    }\n",
       "</style>\n",
       "<table border=\"1\" class=\"dataframe\">\n",
       "  <thead>\n",
       "    <tr style=\"text-align: right;\">\n",
       "      <th></th>\n",
       "      <th>epoch</th>\n",
       "      <th>train_loss</th>\n",
       "      <th>test_loss</th>\n",
       "      <th>accuracy</th>\n",
       "    </tr>\n",
       "  </thead>\n",
       "  <tbody>\n",
       "    <tr>\n",
       "      <th>0</th>\n",
       "      <td>1</td>\n",
       "      <td>0.737618</td>\n",
       "      <td>0.746124</td>\n",
       "      <td>0.355263</td>\n",
       "    </tr>\n",
       "    <tr>\n",
       "      <th>1</th>\n",
       "      <td>2</td>\n",
       "      <td>0.734895</td>\n",
       "      <td>0.742051</td>\n",
       "      <td>0.355263</td>\n",
       "    </tr>\n",
       "    <tr>\n",
       "      <th>2</th>\n",
       "      <td>3</td>\n",
       "      <td>0.732466</td>\n",
       "      <td>0.738119</td>\n",
       "      <td>0.355263</td>\n",
       "    </tr>\n",
       "    <tr>\n",
       "      <th>3</th>\n",
       "      <td>4</td>\n",
       "      <td>0.730291</td>\n",
       "      <td>0.734362</td>\n",
       "      <td>0.381579</td>\n",
       "    </tr>\n",
       "    <tr>\n",
       "      <th>4</th>\n",
       "      <td>5</td>\n",
       "      <td>0.728334</td>\n",
       "      <td>0.730747</td>\n",
       "      <td>0.368421</td>\n",
       "    </tr>\n",
       "  </tbody>\n",
       "</table>\n",
       "</div>"
      ],
      "text/plain": [
       "   epoch  train_loss  test_loss  accuracy\n",
       "0      1    0.737618   0.746124  0.355263\n",
       "1      2    0.734895   0.742051  0.355263\n",
       "2      3    0.732466   0.738119  0.355263\n",
       "3      4    0.730291   0.734362  0.381579\n",
       "4      5    0.728334   0.730747  0.368421"
      ]
     },
     "execution_count": 46,
     "metadata": {},
     "output_type": "execute_result"
    }
   ],
   "source": [
    "df_epochs_data.head()"
   ]
  },
  {
   "cell_type": "markdown",
   "id": "43d42d3d",
   "metadata": {},
   "source": [
    "#### Analyze results for selected model"
   ]
  },
  {
   "cell_type": "code",
   "execution_count": 47,
   "id": "2851f5ba",
   "metadata": {},
   "outputs": [],
   "source": [
    "import matplotlib.pyplot as plt"
   ]
  },
  {
   "cell_type": "code",
   "execution_count": 48,
   "id": "23c1f999",
   "metadata": {},
   "outputs": [
    {
     "data": {
      "image/png": "[encoded data removed]",
      "text/plain": [
       "<Figure size 864x576 with 2 Axes>"
      ]
     },
     "metadata": {
      "needs_background": "light"
     },
     "output_type": "display_data"
    }
   ],
   "source": [
    "f, (ax1, ax2) = plt.subplots(1, 2, figsize=(12, 8))\n",
    "\n",
    "df_epochs_data[[\"train_loss\", \"test_loss\"]].plot(ax=ax1)\n",
    "df_epochs_data[[\"accuracy\"]].plot(ax=ax2)\n",
    "\n",
    "plt.ylim(bottom = 0.5)\n",
    "\n",
    "plt.show()"
   ]
  },
  {
   "cell_type": "markdown",
   "id": "bbebbcea",
   "metadata": {},
   "source": [
    "Accuracy of the test set reduced as the number of epochs increased beyond ~600."
   ]
  },
  {
   "cell_type": "code",
   "execution_count": 50,
   "id": "a5e72842",
   "metadata": {},
   "outputs": [
    {
     "data": {
      "image/png": "[encoded data removed]",
      "text/plain": [
       "<Figure size 288x288 with 2 Axes>"
      ]
     },
     "metadata": {
      "needs_background": "light"
     },
     "output_type": "display_data"
    }
   ],
   "source": [
    "from sklearn.metrics import confusion_matrix, recall_score, precision_score\n",
    "\n",
    "_, pred = result_5_tanh['_, pred']\n",
    "y_pred = pred.detach().numpy()\n",
    "y_test = result_5_tanh['actual_test_label'].detach().numpy()\n",
    "results = confusion_matrix(y_test, y_pred)\n",
    "\n",
    "plt.matshow(results)\n",
    "\n",
    "plt.colorbar()\n",
    "plt.show()"
   ]
  },
  {
   "cell_type": "code",
   "execution_count": 51,
   "id": "a2df6495",
   "metadata": {},
   "outputs": [
    {
     "data": {
      "text/plain": [
       "0.8552631578947368"
      ]
     },
     "execution_count": 51,
     "metadata": {},
     "output_type": "execute_result"
    }
   ],
   "source": [
    "recall_score(y_test, y_pred,average = 'weighted')"
   ]
  },
  {
   "cell_type": "code",
   "execution_count": 52,
   "id": "8e793c7c",
   "metadata": {},
   "outputs": [
    {
     "data": {
      "text/plain": [
       "0.8792144208300879"
      ]
     },
     "execution_count": 52,
     "metadata": {},
     "output_type": "execute_result"
    }
   ],
   "source": [
    "precision_score(y_test, y_pred,average = 'weighted')"
   ]
  },
  {
   "cell_type": "code",
   "execution_count": null,
   "id": "f46c4c70",
   "metadata": {},
   "outputs": [],
   "source": []
  }
 ],
 "metadata": {
  "kernelspec": {
   "display_name": "Python 3",
   "language": "python",
   "name": "python3"
  },
  "language_info": {
   "codemirror_mode": {
    "name": "ipython",
    "version": 3
   },
   "file_extension": ".py",
   "mimetype": "text/x-python",
   "name": "python",
   "nbconvert_exporter": "python",
   "pygments_lexer": "ipython3",
   "version": "3.8.8"
  }
 },
 "nbformat": 4,
 "nbformat_minor": 5
}
